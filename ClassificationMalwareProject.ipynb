{
  "cells": [
    {
      "cell_type": "markdown",
      "metadata": {
        "id": "view-in-github",
        "colab_type": "text"
      },
      "source": [
        "<a href=\"https://colab.research.google.com/github/moAllElite/admin-app/blob/master/ClassificationMalwareProject.ipynb\" target=\"_parent\"><img src=\"https://colab.research.google.com/assets/colab-badge.svg\" alt=\"Open In Colab\"/></a>"
      ]
    },
    {
      "cell_type": "markdown",
      "metadata": {
        "id": "rh4loEvXqJu3"
      },
      "source": [
        "\n",
        "# Projet: Detection de Malware basée sur le Machine Learning\n",
        "\n",
        " ## Pipeline\n",
        "\n",
        "Pipeline Tpour l'Analyse et le Déploiement de Modèles de classification de malware basé sur le machine learning.\n",
        "\n",
        "**1. Importation du Dataset:**\n",
        "\n",
        "\n",
        "Prétraitement des Données:\n",
        "\n",
        "**2. Séparer le dataset en features (caractéristiques) et label (étiquettes).**\n",
        "\n",
        "**3. Division des Données:**\n",
        "\n",
        " Diviser le dataset en ensembles distincts pour l'entraînement (70%) et les tests (30%).\n",
        "\n",
        "**4 . Choix des Algorithmes:**\n",
        "\n",
        " Sélectionner 4 algorithmes de Machine Learning pertinents en fonction du problème.\n",
        "\n",
        "**5. Entraînement des Modèles:**\n",
        "\n",
        "Entrainer chaque modèle sur l'ensemble d'entraînement.\n",
        "\n",
        "**6. Tester la performance de chaque modèle**\n",
        "\n",
        "**7. Évaluer les Modèles:** en utilisant des métriques d'évaluation appropriées (précision, rappel, F1-score, etc.).\n",
        "\n",
        "**8. Sélection du Meilleur Modèle:**\n",
        "\n",
        "**9. Identifier et enregistrer le modèle présentant la meilleure précision.**\n",
        "\n",
        "**10.  Déploiement du Modèle:**\n",
        "  Mettre en œuvre le déploiement du modèle en utilisant des frameworks tels que Django, Flask, Streamlit, ou des plates-formes cloud comme Heroku.\n",
        "\n",
        "\n",
        "\n",
        "\n",
        "\n",
        "\n",
        "\n",
        "\n",
        "\n",
        "\n"
      ]
    },
    {
      "cell_type": "code",
      "execution_count": null,
      "metadata": {
        "id": "oGMYluyACeoa"
      },
      "outputs": [],
      "source": []
    },
    {
      "cell_type": "markdown",
      "metadata": {
        "id": "EyskVKdpyYrZ"
      },
      "source": [
        "**Présentation du jeu de données :**\n",
        "À partir de 137 444 exécutables, nous avons extrait huit caractéristiques pour chaque exécutable et attribué une étiquette correspondante.\n",
        "\n",
        "**Liste des caractéristiques :**\n",
        "\n",
        "\n",
        "* ajorLinkerVersion\n",
        "\n",
        "* MajorImageVersion\n",
        "\n",
        "* MajorOperatingSystemVersion\n",
        "\n",
        "* SizeOfStackReserve\n",
        "\n",
        "* NumberOfSections\n",
        "\n",
        "* ResourceSize\n",
        "\n",
        "* legitimate\n",
        "\n",
        "**Definition des features:**\n",
        "\n",
        "**AddressOfEntryPoint:** L'adresse dans le fichier exécutable où l'exécution du programme doit commencer.\n",
        "\n",
        "**MajorLinkerVersion:**  La version majeure du programme utilisé pour lier le fichier exécutable.\n",
        "\n",
        "**MajorImageVersion:** La version majeure de l'image du fichier exécutable.\n",
        "\n",
        "**MajorOperatingSystemVersion:** La version majeure du système d'exploitation sous lequel le fichier exécutable est destiné à s'exécuter.\n",
        "\n",
        "**DllCharacteristics:**  Les caractéristiques spécifiques de la DLL (Dynamic Link Library) associée au fichier exécutable.\n",
        "\n",
        " **SizeOfStackReserve:** La taille de la mémoire réservée pour la pile d'exécution du programme.\n",
        "\n",
        "**NumberOfSections:** Le nombre de sections dans le fichier exécutable.\n",
        "\n",
        "**ResourceSize:**  La taille des ressources (comme les images, les icônes, etc.) incluses dans le fichier exécutable.\n",
        "\n",
        "**label= legitimate**\n",
        "\n",
        "legitimite=1 <===> malware\n",
        "legitimate=0 <===> benigne (non malware)\n",
        "\n"
      ]
    },
    {
      "cell_type": "markdown",
      "metadata": {
        "id": "BX6bnV5n9SaS"
      },
      "source": [
        "Lien du dataset:\n",
        "https://drive.google.com/drive/folders/1E0RpyEh0g42jFFsNVNm9QzAorSo4QtWq?usp=drive_link"
      ]
    },
    {
      "cell_type": "markdown",
      "metadata": {
        "id": "nZVdWUxzyCS7"
      },
      "source": [
        "Outils: Scikit learn pour entrainer les modeles,pandas pour importer le dataset\n"
      ]
    },
    {
      "cell_type": "code",
      "execution_count": null,
      "metadata": {
        "id": "EJDT5Yx4x0Np"
      },
      "outputs": [],
      "source": []
    },
    {
      "cell_type": "markdown",
      "metadata": {
        "id": "9r7dbMKu-08T"
      },
      "source": [
        "**1. Importation du Dataset:**"
      ]
    },
    {
      "cell_type": "code",
      "execution_count": null,
      "metadata": {
        "id": "om7lcMeS_93V",
        "outputId": "7f2e4b51-a195-46ef-84fe-f227e308f75a",
        "colab": {
          "base_uri": "https://localhost:8080/"
        }
      },
      "outputs": [
        {
          "output_type": "stream",
          "name": "stdout",
          "text": [
            "Drive already mounted at /content/drive; to attempt to forcibly remount, call drive.mount(\"/content/drive\", force_remount=True).\n"
          ]
        }
      ],
      "source": [
        "import sklearn\n",
        "import pandas as pd\n",
        "from sklearn.model_selection import train_test_split\n",
        "from sklearn.metrics import accuracy_score, precision_score, recall_score, f1_score, roc_curve, auc\n",
        "from google.colab import drive\n",
        "drive.mount('/content/drive')"
      ]
    },
    {
      "cell_type": "code",
      "execution_count": null,
      "metadata": {
        "id": "3YAx-2at-7Rl",
        "colab": {
          "base_uri": "https://localhost:8080/"
        },
        "outputId": "821e7711-24ee-479b-a3bf-dffd80ad9e9d"
      },
      "outputs": [
        {
          "output_type": "stream",
          "name": "stdout",
          "text": [
            "        AddressOfEntryPoint  MajorLinkerVersion  MajorImageVersion  \\\n",
            "0                     10407                   9                  6   \n",
            "1                      5354                   9                  6   \n",
            "2                     58807                   9                  6   \n",
            "3                     25166                   9                  6   \n",
            "4                     70387                   9                  6   \n",
            "...                     ...                 ...                ...   \n",
            "137439               123291                  11                  0   \n",
            "137440                40000                   2                  6   \n",
            "137441                59610                  10                  0   \n",
            "137442                51216                   2                  0   \n",
            "137443                22731                  11                  0   \n",
            "\n",
            "        MajorOperatingSystemVersion  DllCharacteristics  SizeOfStackReserve  \\\n",
            "0                                 6               33088              262144   \n",
            "1                                 6               33088              262144   \n",
            "2                                 6               33088              262144   \n",
            "3                                 6               33088              262144   \n",
            "4                                 6               33088              262144   \n",
            "...                             ...                 ...                 ...   \n",
            "137439                            5               33088             1048576   \n",
            "137440                            1               32768             1048576   \n",
            "137441                            5               33088             1048576   \n",
            "137442                            1                   0             1048576   \n",
            "137443                            5               33088             1048576   \n",
            "\n",
            "        NumberOfSections  ResourceSize  legitimate  \n",
            "0                      4           952           1  \n",
            "1                      4           952           1  \n",
            "2                      4        136490           1  \n",
            "3                      4          1940           1  \n",
            "4                      4         83098           1  \n",
            "...                  ...           ...         ...  \n",
            "137439                 5         81654           0  \n",
            "137440                 8         67624           0  \n",
            "137441                 5         22648           0  \n",
            "137442                 8          2216           0  \n",
            "137443                 5        318464           0  \n",
            "\n",
            "[137444 rows x 9 columns]\n"
          ]
        }
      ],
      "source": [
        "\n",
        "mondataSet = pd.read_csv(\"/content/drive/MyDrive/machinelearning/DatasetmalwareExtrait.csv\")\n",
        "print(mondataSet)"
      ]
    },
    {
      "cell_type": "markdown",
      "metadata": {
        "id": "vF0bP3ho-9Wy"
      },
      "source": [
        "**2. Séparer le dataset en features (caractéristiques) et label (étiquettes).**"
      ]
    },
    {
      "cell_type": "code",
      "execution_count": null,
      "metadata": {
        "id": "MgaZJVAltyV0",
        "outputId": "948b0890-c2bd-4b53-8502-5d04b48b8e56",
        "colab": {
          "base_uri": "https://localhost:8080/"
        }
      },
      "outputs": [
        {
          "output_type": "stream",
          "name": "stdout",
          "text": [
            "        AddressOfEntryPoint  MajorLinkerVersion  MajorImageVersion  \\\n",
            "0                     10407                   9                  6   \n",
            "1                      5354                   9                  6   \n",
            "2                     58807                   9                  6   \n",
            "3                     25166                   9                  6   \n",
            "4                     70387                   9                  6   \n",
            "...                     ...                 ...                ...   \n",
            "137439               123291                  11                  0   \n",
            "137440                40000                   2                  6   \n",
            "137441                59610                  10                  0   \n",
            "137442                51216                   2                  0   \n",
            "137443                22731                  11                  0   \n",
            "\n",
            "        MajorOperatingSystemVersion  DllCharacteristics  SizeOfStackReserve  \\\n",
            "0                                 6               33088              262144   \n",
            "1                                 6               33088              262144   \n",
            "2                                 6               33088              262144   \n",
            "3                                 6               33088              262144   \n",
            "4                                 6               33088              262144   \n",
            "...                             ...                 ...                 ...   \n",
            "137439                            5               33088             1048576   \n",
            "137440                            1               32768             1048576   \n",
            "137441                            5               33088             1048576   \n",
            "137442                            1                   0             1048576   \n",
            "137443                            5               33088             1048576   \n",
            "\n",
            "        NumberOfSections  ResourceSize  \n",
            "0                      4           952  \n",
            "1                      4           952  \n",
            "2                      4        136490  \n",
            "3                      4          1940  \n",
            "4                      4         83098  \n",
            "...                  ...           ...  \n",
            "137439                 5         81654  \n",
            "137440                 8         67624  \n",
            "137441                 5         22648  \n",
            "137442                 8          2216  \n",
            "137443                 5        318464  \n",
            "\n",
            "[137444 rows x 8 columns]\n"
          ]
        }
      ],
      "source": [
        "caractéristiques = mondataSet.drop(\"legitimate\", axis=1)\n",
        "étiquettes = mondataSet[\"legitimate\"]\n",
        "print(caractéristiques)"
      ]
    },
    {
      "cell_type": "markdown",
      "metadata": {
        "id": "d96zcx9mACI6"
      },
      "source": [
        "**3. Division des Données en features et label:**"
      ]
    },
    {
      "cell_type": "code",
      "execution_count": null,
      "metadata": {
        "id": "s9rFdipCACdx",
        "outputId": "38f667ae-3786-45aa-b554-c9a5001640ef",
        "colab": {
          "base_uri": "https://localhost:8080/"
        }
      },
      "outputs": [
        {
          "output_type": "stream",
          "name": "stdout",
          "text": [
            "0         1\n",
            "1         1\n",
            "2         1\n",
            "3         1\n",
            "4         1\n",
            "         ..\n",
            "137439    0\n",
            "137440    0\n",
            "137441    0\n",
            "137442    0\n",
            "137443    0\n",
            "Name: legitimate, Length: 137444, dtype: int64\n"
          ]
        }
      ],
      "source": [
        "print(étiquettes)"
      ]
    },
    {
      "cell_type": "markdown",
      "metadata": {
        "id": "3gh02wR2ACuL"
      },
      "source": [
        "**3. Division des Données en données en train et test:**"
      ]
    },
    {
      "cell_type": "code",
      "execution_count": null,
      "metadata": {
        "id": "EW2SM4dYAC9w"
      },
      "outputs": [],
      "source": [
        "X_train, X_test, y_train, y_test = train_test_split(caractéristiques, étiquettes, test_size=0.3, random_state=42)"
      ]
    },
    {
      "cell_type": "markdown",
      "metadata": {
        "id": "MjgF3gXWADLN"
      },
      "source": [
        "\n",
        "**4 . Choix des Algorithmes:**\n",
        "\n",
        " Sélectionner 4 algorithmes de Machine Learning pertinents en fonction du problème.\n",
        "\n"
      ]
    },
    {
      "cell_type": "code",
      "execution_count": null,
      "metadata": {
        "id": "wzt4yVJ4ADZ5"
      },
      "outputs": [],
      "source": [
        "from sklearn.svm import SVC"
      ]
    },
    {
      "cell_type": "code",
      "execution_count": null,
      "metadata": {
        "id": "ctcPPbBz7qf-"
      },
      "outputs": [],
      "source": [
        "from sklearn.ensemble import RandomForestClassifier"
      ]
    },
    {
      "cell_type": "code",
      "execution_count": null,
      "metadata": {
        "id": "7qNW4Koq7qf-"
      },
      "outputs": [],
      "source": [
        "from sklearn.neighbors import KNeighborsClassifier"
      ]
    },
    {
      "cell_type": "code",
      "execution_count": null,
      "metadata": {
        "id": "WAHi9xIx7qf-"
      },
      "outputs": [],
      "source": [
        "from sklearn.tree import DecisionTreeClassifier"
      ]
    },
    {
      "cell_type": "code",
      "execution_count": 38,
      "metadata": {
        "id": "dUfK5OyCAspH"
      },
      "outputs": [],
      "source": [
        "models = {\n",
        "    'SVM': SVC(),\n",
        "    'Random Forest': RandomForestClassifier(),\n",
        "    'KNN': KNeighborsClassifier(),\n",
        "    'Decision Tree': DecisionTreeClassifier()\n",
        "}"
      ]
    },
    {
      "cell_type": "markdown",
      "metadata": {
        "id": "4l-iZe9-Atep"
      },
      "source": [
        "**5. Entraînement de chaque Modèle choisi:**\n",
        "\n",
        "\n",
        "\n",
        "\n",
        "\n"
      ]
    },
    {
      "cell_type": "code",
      "execution_count": 35,
      "metadata": {
        "id": "TzH1ddIyA-uI"
      },
      "outputs": [],
      "source": [
        "trained_models = {}"
      ]
    },
    {
      "cell_type": "code",
      "execution_count": 42,
      "metadata": {
        "id": "3on9UL6R7qf_",
        "colab": {
          "base_uri": "https://localhost:8080/"
        },
        "outputId": "e705bdc3-622b-4f34-d2e9-ac4effbfa080"
      },
      "outputs": [
        {
          "output_type": "stream",
          "name": "stdout",
          "text": [
            "{'SVM': SVC(), 'Random Forest': RandomForestClassifier(), 'KNN': KNeighborsClassifier(), 'Decision Tree': DecisionTreeClassifier()}\n"
          ]
        }
      ],
      "source": [
        "for name, model in models.items():\n",
        "    model.fit(X_train, y_train)\n",
        "    trained_models[name] = model\n",
        "\n",
        "print(trained_models)"
      ]
    },
    {
      "cell_type": "markdown",
      "metadata": {
        "id": "ZQFMeMNSA_MG"
      },
      "source": [
        "\n",
        "\n",
        "**6. Tester la performance de chaque modèle**\n",
        "\n"
      ]
    },
    {
      "cell_type": "code",
      "execution_count": 41,
      "metadata": {
        "id": "KlmkrjOJBrLy",
        "colab": {
          "base_uri": "https://localhost:8080/"
        },
        "outputId": "3f307f8a-5add-42a4-86e5-050fe2706b87"
      },
      "outputs": [
        {
          "output_type": "stream",
          "name": "stdout",
          "text": [
            "{}\n"
          ]
        }
      ],
      "source": [
        "results = {}\n",
        "for name, model in trained_models.items():\n",
        "    y_pred = model.predict(X_test)\n",
        "    results[name] = accuracy_score(y_test, y_pred)\n",
        "\n",
        "print(results)"
      ]
    },
    {
      "cell_type": "markdown",
      "metadata": {
        "id": "QQQoDIsxBr7O"
      },
      "source": [
        "**7. Évaluer les Modèles:** en utilisant des métriques d'évaluation appropriées (précision, rappel, F1-score, etc.).\n"
      ]
    },
    {
      "cell_type": "code",
      "execution_count": 34,
      "metadata": {
        "id": "mmnCGAzSBttB"
      },
      "outputs": [],
      "source": [
        "for name, accuracy in results.items():\n",
        "    print(f\"{name} - Accuracy: {accuracy}\")"
      ]
    },
    {
      "cell_type": "markdown",
      "metadata": {
        "id": "u6njbKT8Bt8Q"
      },
      "source": [
        "\n",
        "**8. Sélection du Meilleur Modèle:**\n"
      ]
    },
    {
      "cell_type": "code",
      "execution_count": 40,
      "metadata": {
        "id": "AWWxnX4dBvw5",
        "colab": {
          "base_uri": "https://localhost:8080/",
          "height": 164
        },
        "outputId": "1b5896f2-f89a-4ca5-b7d3-00d275ea1e08"
      },
      "outputs": [
        {
          "output_type": "error",
          "ename": "ValueError",
          "evalue": "max() arg is an empty sequence",
          "traceback": [
            "\u001b[0;31m---------------------------------------------------------------------------\u001b[0m",
            "\u001b[0;31mValueError\u001b[0m                                Traceback (most recent call last)",
            "\u001b[0;32m<ipython-input-40-132fc2c86ed6>\u001b[0m in \u001b[0;36m<cell line: 1>\u001b[0;34m()\u001b[0m\n\u001b[0;32m----> 1\u001b[0;31m \u001b[0mbest_model_name\u001b[0m \u001b[0;34m=\u001b[0m \u001b[0mmax\u001b[0m\u001b[0;34m(\u001b[0m\u001b[0mresults\u001b[0m\u001b[0;34m,\u001b[0m  \u001b[0mkey\u001b[0m\u001b[0;34m=\u001b[0m\u001b[0mresults\u001b[0m\u001b[0;34m.\u001b[0m\u001b[0mget\u001b[0m\u001b[0;34m)\u001b[0m\u001b[0;34m\u001b[0m\u001b[0;34m\u001b[0m\u001b[0m\n\u001b[0m\u001b[1;32m      2\u001b[0m \u001b[0mbest_model\u001b[0m \u001b[0;34m=\u001b[0m \u001b[0mtrained_models\u001b[0m\u001b[0;34m[\u001b[0m\u001b[0mbest_model_name\u001b[0m\u001b[0;34m]\u001b[0m\u001b[0;34m\u001b[0m\u001b[0;34m\u001b[0m\u001b[0m\n",
            "\u001b[0;31mValueError\u001b[0m: max() arg is an empty sequence"
          ]
        }
      ],
      "source": [
        "best_model_name = max(results,  key=results.get)\n",
        "best_model = trained_models[best_model_name]"
      ]
    },
    {
      "cell_type": "markdown",
      "metadata": {
        "id": "NCBcAcKCBwOk"
      },
      "source": [
        "\n",
        "**9. Identifier et enregistrer le modèle présentant la meilleure précision.**\n",
        "\n"
      ]
    },
    {
      "cell_type": "code",
      "execution_count": null,
      "metadata": {
        "id": "nNn3GdrhBx6i",
        "outputId": "3fea0c74-55db-4920-aff6-ad3e7cb70a8b",
        "colab": {
          "base_uri": "https://localhost:8080/"
        }
      },
      "outputs": [
        {
          "output_type": "execute_result",
          "data": {
            "text/plain": [
              "['ClassificationMalwareBestModel.pkl']"
            ]
          },
          "metadata": {},
          "execution_count": 33
        }
      ],
      "source": [
        "import joblib\n",
        "joblib.dump(best_model, \"ClassificationMalwareBestModel.pkl\")"
      ]
    },
    {
      "cell_type": "markdown",
      "metadata": {
        "id": "RZhLukPvC6B8"
      },
      "source": []
    },
    {
      "cell_type": "code",
      "execution_count": null,
      "metadata": {
        "id": "jwQ0U_ZjCjqq"
      },
      "outputs": [],
      "source": []
    },
    {
      "cell_type": "markdown",
      "metadata": {
        "id": "hExQniJcByV9"
      },
      "source": [
        "**10.  Déploiement du Modèle:**"
      ]
    },
    {
      "cell_type": "markdown",
      "metadata": {
        "id": "SCGgu3ckADn_"
      },
      "source": [
        "#               **FIN**"
      ]
    },
    {
      "cell_type": "markdown",
      "metadata": {
        "id": "SUYTtgCMClvw"
      },
      "source": [
        "NB: Projet a faire par groupe de 3.\n",
        "\n",
        "A rendre au plutard Mercredi  24 Janvier 2023."
      ]
    }
  ],
  "metadata": {
    "colab": {
      "provenance": [],
      "include_colab_link": true
    },
    "kernelspec": {
      "display_name": "Python 3",
      "name": "python3"
    },
    "language_info": {
      "codemirror_mode": {
        "name": "ipython",
        "version": 3
      },
      "file_extension": ".py",
      "mimetype": "text/x-python",
      "name": "python",
      "nbconvert_exporter": "python",
      "pygments_lexer": "ipython3",
      "version": "3.12.0"
    }
  },
  "nbformat": 4,
  "nbformat_minor": 0
}